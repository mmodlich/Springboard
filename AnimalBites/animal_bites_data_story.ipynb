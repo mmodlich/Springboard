{
 "cells": [
  {
   "cell_type": "markdown",
   "id": "1d24420c",
   "metadata": {},
   "source": [
    "# Animal Bites in Louisville, Kentucky area from 1985 to 2017"
   ]
  },
  {
   "cell_type": "markdown",
   "id": "d388f324",
   "metadata": {},
   "source": [
    "https://www.kaggle.com/datasets/rtatman/animal-bites?resource=download"
   ]
  },
  {
   "cell_type": "markdown",
   "id": "7179e170",
   "metadata": {},
   "source": [
    "From Kaggle description:\n",
    "\n",
    "Context:\n",
    "In the United States, animal bites are often reported to law enforcement (such as animal control). The main concern with an animal bite is that the animal may be rabid. This dataset includes information on over 9,000 animal bites which occurred near Louisville, Kentucky from 1985 to 2017 and includes information on whether the animal was quarantined after the bite occurred and whether that animal was rabid.\n",
    "\n",
    "Content:\n",
    "Attributes of animal bite incidents reported to and investigated by Louisville Metro Department of Public Health and Wellness. Personal/identifying data has been removed. This dataset is a single .csv with the following fields.\n",
    "\n",
    "- bite_date: The date the bite occurred\n",
    "- SpeciesIDDesc: The species of animal that did the biting\n",
    "- BreedIDDesc: Breed (if known)\n",
    "- GenderIDDesc: Gender (of the animal)\n",
    "- color: color of the animal\n",
    "- vaccination_yrs: how many years had passed since the last vaccination\n",
    "- vaccination_date: the date of the last vaccination\n",
    "- victim_zip: the zipcode of the victim\n",
    "- AdvIssuedYNDesc: whether advice was issued\n",
    "- WhereBittenIDDesc: Where on the body the victim was bitten\n",
    "- quarantine_date: whether the animal was quarantined\n",
    "- DispositionIDDesc: whether the animal was released from quarantine\n",
    "- head_sent_date: the date the animal’s head was sent to the lab\n",
    "- release_date: the date the animal was released\n",
    "- ResultsIDDesc: results from lab tests (for rabies)"
   ]
  },
  {
   "cell_type": "code",
   "execution_count": 1,
   "id": "fb2ada19",
   "metadata": {},
   "outputs": [],
   "source": [
    "# Load python libraries\n",
    "\n",
    "import pandas as pd\n",
    "import numpy as np\n",
    "\n",
    "import datetime as dt\n",
    "\n",
    "import matplotlib.pyplot as plt\n",
    "import seaborn as sns\n",
    "%matplotlib inline"
   ]
  },
  {
   "cell_type": "code",
   "execution_count": 2,
   "id": "9e6f3bf9",
   "metadata": {},
   "outputs": [],
   "source": [
    "# Load data\n",
    "df = pd.read_csv('Health_AnimalBites.csv')"
   ]
  },
  {
   "cell_type": "code",
   "execution_count": 3,
   "id": "19fa0078",
   "metadata": {},
   "outputs": [
    {
     "data": {
      "text/html": [
       "<div>\n",
       "<style scoped>\n",
       "    .dataframe tbody tr th:only-of-type {\n",
       "        vertical-align: middle;\n",
       "    }\n",
       "\n",
       "    .dataframe tbody tr th {\n",
       "        vertical-align: top;\n",
       "    }\n",
       "\n",
       "    .dataframe thead th {\n",
       "        text-align: right;\n",
       "    }\n",
       "</style>\n",
       "<table border=\"1\" class=\"dataframe\">\n",
       "  <thead>\n",
       "    <tr style=\"text-align: right;\">\n",
       "      <th></th>\n",
       "      <th>bite_date</th>\n",
       "      <th>SpeciesIDDesc</th>\n",
       "      <th>BreedIDDesc</th>\n",
       "      <th>GenderIDDesc</th>\n",
       "      <th>color</th>\n",
       "      <th>vaccination_yrs</th>\n",
       "      <th>vaccination_date</th>\n",
       "      <th>victim_zip</th>\n",
       "      <th>AdvIssuedYNDesc</th>\n",
       "      <th>WhereBittenIDDesc</th>\n",
       "      <th>quarantine_date</th>\n",
       "      <th>DispositionIDDesc</th>\n",
       "      <th>head_sent_date</th>\n",
       "      <th>release_date</th>\n",
       "      <th>ResultsIDDesc</th>\n",
       "    </tr>\n",
       "  </thead>\n",
       "  <tbody>\n",
       "    <tr>\n",
       "      <th>0</th>\n",
       "      <td>1985-05-05 00:00:00</td>\n",
       "      <td>DOG</td>\n",
       "      <td>NaN</td>\n",
       "      <td>FEMALE</td>\n",
       "      <td>LIG. BROWN</td>\n",
       "      <td>1.0</td>\n",
       "      <td>1985-06-20 00:00:00</td>\n",
       "      <td>40229</td>\n",
       "      <td>NO</td>\n",
       "      <td>BODY</td>\n",
       "      <td>1985-05-05 00:00:00</td>\n",
       "      <td>UNKNOWN</td>\n",
       "      <td>NaN</td>\n",
       "      <td>NaN</td>\n",
       "      <td>UNKNOWN</td>\n",
       "    </tr>\n",
       "    <tr>\n",
       "      <th>1</th>\n",
       "      <td>1986-02-12 00:00:00</td>\n",
       "      <td>DOG</td>\n",
       "      <td>NaN</td>\n",
       "      <td>UNKNOWN</td>\n",
       "      <td>BRO &amp; BLA</td>\n",
       "      <td>NaN</td>\n",
       "      <td>NaN</td>\n",
       "      <td>40218</td>\n",
       "      <td>NO</td>\n",
       "      <td>BODY</td>\n",
       "      <td>1986-02-12 00:00:00</td>\n",
       "      <td>UNKNOWN</td>\n",
       "      <td>NaN</td>\n",
       "      <td>NaN</td>\n",
       "      <td>UNKNOWN</td>\n",
       "    </tr>\n",
       "    <tr>\n",
       "      <th>2</th>\n",
       "      <td>1987-05-07 00:00:00</td>\n",
       "      <td>DOG</td>\n",
       "      <td>NaN</td>\n",
       "      <td>UNKNOWN</td>\n",
       "      <td>NaN</td>\n",
       "      <td>NaN</td>\n",
       "      <td>NaN</td>\n",
       "      <td>40219</td>\n",
       "      <td>NO</td>\n",
       "      <td>BODY</td>\n",
       "      <td>1990-05-07 00:00:00</td>\n",
       "      <td>UNKNOWN</td>\n",
       "      <td>NaN</td>\n",
       "      <td>NaN</td>\n",
       "      <td>UNKNOWN</td>\n",
       "    </tr>\n",
       "    <tr>\n",
       "      <th>3</th>\n",
       "      <td>1988-10-02 00:00:00</td>\n",
       "      <td>DOG</td>\n",
       "      <td>NaN</td>\n",
       "      <td>MALE</td>\n",
       "      <td>BLA &amp; BRO</td>\n",
       "      <td>NaN</td>\n",
       "      <td>NaN</td>\n",
       "      <td>NaN</td>\n",
       "      <td>NO</td>\n",
       "      <td>BODY</td>\n",
       "      <td>1990-10-02 00:00:00</td>\n",
       "      <td>UNKNOWN</td>\n",
       "      <td>NaN</td>\n",
       "      <td>NaN</td>\n",
       "      <td>UNKNOWN</td>\n",
       "    </tr>\n",
       "    <tr>\n",
       "      <th>4</th>\n",
       "      <td>1989-08-29 00:00:00</td>\n",
       "      <td>DOG</td>\n",
       "      <td>NaN</td>\n",
       "      <td>FEMALE</td>\n",
       "      <td>BLK-WHT</td>\n",
       "      <td>NaN</td>\n",
       "      <td>NaN</td>\n",
       "      <td>NaN</td>\n",
       "      <td>NO</td>\n",
       "      <td>BODY</td>\n",
       "      <td>NaN</td>\n",
       "      <td>UNKNOWN</td>\n",
       "      <td>NaN</td>\n",
       "      <td>NaN</td>\n",
       "      <td>UNKNOWN</td>\n",
       "    </tr>\n",
       "  </tbody>\n",
       "</table>\n",
       "</div>"
      ],
      "text/plain": [
       "             bite_date SpeciesIDDesc BreedIDDesc GenderIDDesc       color  \\\n",
       "0  1985-05-05 00:00:00           DOG         NaN       FEMALE  LIG. BROWN   \n",
       "1  1986-02-12 00:00:00           DOG         NaN      UNKNOWN   BRO & BLA   \n",
       "2  1987-05-07 00:00:00           DOG         NaN      UNKNOWN         NaN   \n",
       "3  1988-10-02 00:00:00           DOG         NaN         MALE   BLA & BRO   \n",
       "4  1989-08-29 00:00:00           DOG         NaN       FEMALE     BLK-WHT   \n",
       "\n",
       "   vaccination_yrs     vaccination_date victim_zip AdvIssuedYNDesc  \\\n",
       "0              1.0  1985-06-20 00:00:00      40229              NO   \n",
       "1              NaN                  NaN      40218              NO   \n",
       "2              NaN                  NaN      40219              NO   \n",
       "3              NaN                  NaN        NaN              NO   \n",
       "4              NaN                  NaN        NaN              NO   \n",
       "\n",
       "  WhereBittenIDDesc      quarantine_date DispositionIDDesc head_sent_date  \\\n",
       "0              BODY  1985-05-05 00:00:00           UNKNOWN            NaN   \n",
       "1              BODY  1986-02-12 00:00:00           UNKNOWN            NaN   \n",
       "2              BODY  1990-05-07 00:00:00           UNKNOWN            NaN   \n",
       "3              BODY  1990-10-02 00:00:00           UNKNOWN            NaN   \n",
       "4              BODY                  NaN           UNKNOWN            NaN   \n",
       "\n",
       "  release_date ResultsIDDesc  \n",
       "0          NaN       UNKNOWN  \n",
       "1          NaN       UNKNOWN  \n",
       "2          NaN       UNKNOWN  \n",
       "3          NaN       UNKNOWN  \n",
       "4          NaN       UNKNOWN  "
      ]
     },
     "execution_count": 3,
     "metadata": {},
     "output_type": "execute_result"
    }
   ],
   "source": [
    "# View first 5 rows of data\n",
    "df.head()"
   ]
  },
  {
   "cell_type": "code",
   "execution_count": 4,
   "id": "8bad562d",
   "metadata": {},
   "outputs": [
    {
     "name": "stdout",
     "output_type": "stream",
     "text": [
      "<class 'pandas.core.frame.DataFrame'>\n",
      "RangeIndex: 9003 entries, 0 to 9002\n",
      "Data columns (total 15 columns):\n",
      " #   Column             Non-Null Count  Dtype  \n",
      "---  ------             --------------  -----  \n",
      " 0   bite_date          8686 non-null   object \n",
      " 1   SpeciesIDDesc      8885 non-null   object \n",
      " 2   BreedIDDesc        3759 non-null   object \n",
      " 3   GenderIDDesc       6477 non-null   object \n",
      " 4   color              6426 non-null   object \n",
      " 5   vaccination_yrs    3738 non-null   float64\n",
      " 6   vaccination_date   4115 non-null   object \n",
      " 7   victim_zip         7165 non-null   object \n",
      " 8   AdvIssuedYNDesc    2565 non-null   object \n",
      " 9   WhereBittenIDDesc  8387 non-null   object \n",
      " 10  quarantine_date    2020 non-null   object \n",
      " 11  DispositionIDDesc  1535 non-null   object \n",
      " 12  head_sent_date     395 non-null    object \n",
      " 13  release_date       1445 non-null   object \n",
      " 14  ResultsIDDesc      1543 non-null   object \n",
      "dtypes: float64(1), object(14)\n",
      "memory usage: 1.0+ MB\n"
     ]
    }
   ],
   "source": [
    "# Get info on data\n",
    "df.info()"
   ]
  },
  {
   "cell_type": "code",
   "execution_count": 5,
   "id": "0e4ddddc",
   "metadata": {},
   "outputs": [
    {
     "data": {
      "text/plain": [
       "UNKNOWN     1240\n",
       "NEGATIVE     299\n",
       "POSITIVE       4\n",
       "Name: ResultsIDDesc, dtype: int64"
      ]
     },
     "execution_count": 5,
     "metadata": {},
     "output_type": "execute_result"
    }
   ],
   "source": [
    "df['ResultsIDDesc'].value_counts()"
   ]
  },
  {
   "cell_type": "code",
   "execution_count": 6,
   "id": "a90172a4",
   "metadata": {},
   "outputs": [
    {
     "data": {
      "text/plain": [
       "bite_date             317\n",
       "SpeciesIDDesc         118\n",
       "BreedIDDesc          5244\n",
       "GenderIDDesc         2526\n",
       "color                2577\n",
       "vaccination_yrs      5265\n",
       "vaccination_date     4888\n",
       "victim_zip           1838\n",
       "AdvIssuedYNDesc      6438\n",
       "WhereBittenIDDesc     616\n",
       "quarantine_date      6983\n",
       "DispositionIDDesc    7468\n",
       "head_sent_date       8608\n",
       "release_date         7558\n",
       "ResultsIDDesc        7460\n",
       "dtype: int64"
      ]
     },
     "execution_count": 6,
     "metadata": {},
     "output_type": "execute_result"
    }
   ],
   "source": [
    "# How many null values per column?\n",
    "df.isna().sum()"
   ]
  },
  {
   "cell_type": "markdown",
   "id": "ab928fd7",
   "metadata": {},
   "source": [
    "There are numerous missing values."
   ]
  },
  {
   "cell_type": "code",
   "execution_count": 7,
   "id": "36beb978",
   "metadata": {},
   "outputs": [],
   "source": [
    "# Fill null values in all categorical columns with 'UNKNOWN' \n",
    "\n",
    "df.loc[:, ('SpeciesIDDesc', 'BreedIDDesc', 'GenderIDDesc', 'color', 'victim_zip', 'AdvIssuedYNDesc', 'WhereBittenIDDesc', \n",
    "    'DispositionIDDesc', 'ResultsIDDesc')] = df.loc[:, ('SpeciesIDDesc', 'BreedIDDesc', 'GenderIDDesc', 'color', 'victim_zip', 'AdvIssuedYNDesc', 'WhereBittenIDDesc', \n",
    "    'DispositionIDDesc', 'ResultsIDDesc')].fillna('UNKNOWN')"
   ]
  },
  {
   "cell_type": "code",
   "execution_count": 8,
   "id": "a7ecc7ac",
   "metadata": {},
   "outputs": [
    {
     "data": {
      "text/plain": [
       "bite_date             317\n",
       "SpeciesIDDesc           0\n",
       "BreedIDDesc             0\n",
       "GenderIDDesc            0\n",
       "color                   0\n",
       "vaccination_yrs      5265\n",
       "vaccination_date     4888\n",
       "victim_zip              0\n",
       "AdvIssuedYNDesc         0\n",
       "WhereBittenIDDesc       0\n",
       "quarantine_date      6983\n",
       "DispositionIDDesc       0\n",
       "head_sent_date       8608\n",
       "release_date         7558\n",
       "ResultsIDDesc           0\n",
       "dtype: int64"
      ]
     },
     "execution_count": 8,
     "metadata": {},
     "output_type": "execute_result"
    }
   ],
   "source": [
    "# Check null values\n",
    "df.isna().sum()"
   ]
  },
  {
   "cell_type": "markdown",
   "id": "fcfd3ba0",
   "metadata": {},
   "source": [
    "## How do bites vary over time?"
   ]
  },
  {
   "cell_type": "code",
   "execution_count": 9,
   "id": "6a3856a8",
   "metadata": {},
   "outputs": [
    {
     "name": "stdout",
     "output_type": "stream",
     "text": [
      "3.5 % of rows are missing an entry for \"bite_date\".\n"
     ]
    }
   ],
   "source": [
    "print(round((df['bite_date'].isna().sum() / len(df)) * 100, 1),'% of rows are missing an entry for \"bite_date\".')"
   ]
  },
  {
   "cell_type": "markdown",
   "id": "5d0562ac",
   "metadata": {},
   "source": [
    "There are relatively few (3.5%) of rows with the 'bite_date' column missing. These will be dropped for an analysis of animal bites over time. Other date-oriented columns with missing data will be ignored for now."
   ]
  },
  {
   "cell_type": "code",
   "execution_count": 10,
   "id": "054d829e",
   "metadata": {},
   "outputs": [],
   "source": [
    "# Make copy of original DataFrame\n",
    "df_orig = df.copy()\n",
    "\n",
    "# Drop null values in 'bite_date' column\n",
    "df = df.dropna(subset='bite_date')"
   ]
  },
  {
   "cell_type": "code",
   "execution_count": 11,
   "id": "a7622f99",
   "metadata": {},
   "outputs": [
    {
     "data": {
      "text/plain": [
       "0"
      ]
     },
     "execution_count": 11,
     "metadata": {},
     "output_type": "execute_result"
    }
   ],
   "source": [
    "# Confirm values dropped\n",
    "df['bite_date'].isna().sum()"
   ]
  },
  {
   "cell_type": "code",
   "execution_count": 12,
   "id": "a9eba591",
   "metadata": {},
   "outputs": [
    {
     "data": {
      "text/plain": [
       "4345    1952-05-28 00:00:00\n",
       "8570    1952-08-05 00:00:00\n",
       "0       1985-05-05 00:00:00\n",
       "1       1986-02-12 00:00:00\n",
       "2       1987-05-07 00:00:00\n",
       "3       1988-10-02 00:00:00\n",
       "4       1989-08-29 00:00:00\n",
       "5       1989-11-24 00:00:00\n",
       "6       1990-02-08 00:00:00\n",
       "7       1990-02-22 00:00:00\n",
       "Name: bite_date, dtype: object"
      ]
     },
     "execution_count": 12,
     "metadata": {},
     "output_type": "execute_result"
    }
   ],
   "source": [
    "# What does the 'bite_date' data look like sorted?\n",
    "df['bite_date'].sort_values().head(10)"
   ]
  },
  {
   "cell_type": "code",
   "execution_count": 13,
   "id": "4ae286c1",
   "metadata": {},
   "outputs": [
    {
     "data": {
      "text/plain": [
       "9002    2017-09-07 00:00:00\n",
       "9001    2017-09-07 00:00:00\n",
       "8436    2018-04-17 00:00:00\n",
       "3392    2020-08-08 00:00:00\n",
       "3012    2021-04-22 00:00:00\n",
       "1512    2101-02-18 00:00:00\n",
       "5055    2201-01-21 00:00:00\n",
       "6293    2201-02-21 00:00:00\n",
       "6505    2201-05-01 00:00:00\n",
       "4490    5013-07-15 00:00:00\n",
       "Name: bite_date, dtype: object"
      ]
     },
     "execution_count": 13,
     "metadata": {},
     "output_type": "execute_result"
    }
   ],
   "source": [
    "# 'bite_date' sorting continued\n",
    "df['bite_date'].sort_values().tail(10)"
   ]
  },
  {
   "cell_type": "markdown",
   "id": "99c3a51b",
   "metadata": {},
   "source": [
    "There are dates before 1985 and after 2017, as well as some dates that seem erroneous. Those will be dropped."
   ]
  },
  {
   "cell_type": "code",
   "execution_count": 14,
   "id": "b0e72faa",
   "metadata": {},
   "outputs": [],
   "source": [
    "# Drop erroneous values in 'bite_date' column\n",
    "date_ind_list = [4345, 8570, 8436, 3392, 3012, 1512, 5055, 6293, 6505, 4490]\n",
    "df.drop(date_ind_list, inplace=True)"
   ]
  },
  {
   "cell_type": "code",
   "execution_count": 15,
   "id": "1b8dc529",
   "metadata": {},
   "outputs": [],
   "source": [
    "# Convert to 'bite_date' to Pandas datetime object\n",
    "df['bite_date'] = pd.to_datetime(df['bite_date'])"
   ]
  },
  {
   "cell_type": "code",
   "execution_count": 16,
   "id": "9a4e0852",
   "metadata": {},
   "outputs": [
    {
     "data": {
      "text/plain": [
       "bite_date            datetime64[ns]\n",
       "SpeciesIDDesc                object\n",
       "BreedIDDesc                  object\n",
       "GenderIDDesc                 object\n",
       "color                        object\n",
       "vaccination_yrs             float64\n",
       "vaccination_date             object\n",
       "victim_zip                   object\n",
       "AdvIssuedYNDesc              object\n",
       "WhereBittenIDDesc            object\n",
       "quarantine_date              object\n",
       "DispositionIDDesc            object\n",
       "head_sent_date               object\n",
       "release_date                 object\n",
       "ResultsIDDesc                object\n",
       "dtype: object"
      ]
     },
     "execution_count": 16,
     "metadata": {},
     "output_type": "execute_result"
    }
   ],
   "source": [
    "# Check 'bite_date' converted to datetime\n",
    "df.dtypes"
   ]
  },
  {
   "cell_type": "code",
   "execution_count": 17,
   "id": "140b695d",
   "metadata": {
    "scrolled": false
   },
   "outputs": [
    {
     "data": {
      "image/png": "[encoded data removed]",
      "text/plain": [
       "<Figure size 1080x576 with 1 Axes>"
      ]
     },
     "metadata": {
      "needs_background": "light"
     },
     "output_type": "display_data"
    }
   ],
   "source": [
    "# Plot bite_date by year\n",
    "fig, ax = plt.subplots(figsize=(15,8))\n",
    "_ = sns.countplot(x=df['bite_date'].dt.year, color='b', saturation=0.55).set(title='Counts of Animal Bites by Year')\n",
    "_ = ax.bar_label(ax.containers[0])"
   ]
  },
  {
   "cell_type": "markdown",
   "id": "273d0738",
   "metadata": {},
   "source": [
    "**Most animal bites were reported between the years 2010 to 2017. Perhaps this coincided with a public awareness campaign to report animal bites to the public authorities?**"
   ]
  },
  {
   "cell_type": "code",
   "execution_count": 18,
   "id": "ee81f473",
   "metadata": {},
   "outputs": [
    {
     "data": {
      "image/png": "[encoded data removed]",
      "text/plain": [
       "<Figure size 1080x576 with 1 Axes>"
      ]
     },
     "metadata": {
      "needs_background": "light"
     },
     "output_type": "display_data"
    }
   ],
   "source": [
    "# Plot bite_date by month\n",
    "fig, ax = plt.subplots(figsize=(15,8))\n",
    "order = ['Jan', 'Feb', 'Mar', 'Apr', 'May', 'Jun', 'Jul', 'Aug', 'Sep', 'Oct', 'Nov', 'Dec']\n",
    "_ = sns.countplot(x=df['bite_date'].dt.strftime('%b'), order=order, color='b', saturation = 0.55\n",
    "                 ).set(title='Counts of Animal Bites by Month')\n",
    "_ = ax.bar_label(ax.containers[0])"
   ]
  },
  {
   "cell_type": "markdown",
   "id": "77a8fbe8",
   "metadata": {},
   "source": [
    "**Animal bites occur more often between March and August. May is the month with the highest count of animal bites. It is likely that more animal bites are reported in the warmer months as people and animals are in increased contact outdoors.**"
   ]
  },
  {
   "cell_type": "markdown",
   "id": "64b5f30a",
   "metadata": {},
   "source": [
    "## Which species of animal has the most reported bites?"
   ]
  },
  {
   "cell_type": "code",
   "execution_count": 19,
   "id": "64412640",
   "metadata": {},
   "outputs": [
    {
     "data": {
      "image/png": "[encoded data removed]",
      "text/plain": [
       "<Figure size 1080x576 with 1 Axes>"
      ]
     },
     "metadata": {
      "needs_background": "light"
     },
     "output_type": "display_data"
    }
   ],
   "source": [
    "# Plot bite count by animal species\n",
    "fig, ax = plt.subplots(figsize=(15,8))\n",
    "_ = sns.countplot(x=df_orig['SpeciesIDDesc'], saturation = 0.55, palette='Set1').set(title='Count of Animal Bites by Species')\n",
    "_ = ax.bar_label(ax.containers[0])"
   ]
  },
  {
   "cell_type": "markdown",
   "id": "f896c852",
   "metadata": {},
   "source": [
    "**Dogs bite more frequently than other species. Cats have the second highest amount of bites. Other species have much fewer bites than both dogs and cats. This is likely due to the abundance of dogs and cats as pets in people's homes. Additionally, dogs are potentially more aggressive toward people than cats.**"
   ]
  },
  {
   "cell_type": "markdown",
   "id": "09a85a5f",
   "metadata": {},
   "source": [
    "## Which breeds bite the most?"
   ]
  },
  {
   "cell_type": "code",
   "execution_count": 20,
   "id": "7351d7b4",
   "metadata": {},
   "outputs": [
    {
     "name": "stdout",
     "output_type": "stream",
     "text": [
      "UNKNOWN            5244\n",
      "PIT BULL           1102\n",
      "GERM SHEPHERD       327\n",
      "LABRADOR RETRIV     253\n",
      "BOXER               181\n",
      "CHICHAUHUA          165\n",
      "SHIH TZU            119\n",
      "BEAGLE              116\n",
      "ROTTWEILER           86\n",
      "AAUST. TERR.         78\n",
      "Name: BreedIDDesc, dtype: int64\n"
     ]
    }
   ],
   "source": [
    "# List top 10 breeds\n",
    "top10 = df_orig['BreedIDDesc'].value_counts().head(10)\n",
    "print(top10)"
   ]
  },
  {
   "cell_type": "code",
   "execution_count": 21,
   "id": "97bc7f9e",
   "metadata": {},
   "outputs": [
    {
     "name": "stdout",
     "output_type": "stream",
     "text": [
      "['UNKNOWN', 'PIT BULL', 'GERM SHEPHERD', 'LABRADOR RETRIV', 'BOXER', 'CHICHAUHUA', 'SHIH TZU', 'BEAGLE', 'ROTTWEILER', 'AAUST. TERR.']\n"
     ]
    }
   ],
   "source": [
    "top10_list = list(top10.index)\n",
    "print(top10_list)"
   ]
  },
  {
   "cell_type": "code",
   "execution_count": 22,
   "id": "cc4f3d84",
   "metadata": {},
   "outputs": [
    {
     "name": "stdout",
     "output_type": "stream",
     "text": [
      "0               UNKNOWN\n",
      "1               UNKNOWN\n",
      "2               UNKNOWN\n",
      "3               UNKNOWN\n",
      "4               UNKNOWN\n",
      "             ...       \n",
      "8997         CHICHAUHUA\n",
      "8998            UNKNOWN\n",
      "9000    LABRADOR RETRIV\n",
      "9001    LABRADOR RETRIV\n",
      "9002              BOXER\n",
      "Name: BreedIDDesc, Length: 7671, dtype: object\n"
     ]
    }
   ],
   "source": [
    "top10_subset = df_orig[df_orig['BreedIDDesc'].isin(top10_list)]['BreedIDDesc']\n",
    "print(top10_subset)"
   ]
  },
  {
   "cell_type": "code",
   "execution_count": 23,
   "id": "59fa06a1",
   "metadata": {},
   "outputs": [
    {
     "data": {
      "image/png": "[encoded data removed]",
      "text/plain": [
       "<Figure size 1296x576 with 1 Axes>"
      ]
     },
     "metadata": {
      "needs_background": "light"
     },
     "output_type": "display_data"
    }
   ],
   "source": [
    "# Plot bite count by animal breed\n",
    "fig, ax = plt.subplots(figsize=(18,8))\n",
    "_ = sns.countplot(x=top10_subset, palette = 'Set1', saturation = 0.55, order=top10_subset.value_counts().index).set(title='Count of Animal Bites by Breed')\n",
    "_ = ax.bar_label(ax.containers[0])"
   ]
  },
  {
   "cell_type": "markdown",
   "id": "4c45637f",
   "metadata": {},
   "source": [
    "**Although the highest count of bites is of an unknown type (e.g. mixed breed or not reported), the rest of the breeds on the top 10 list are dog types. The pit bull breed seems to bite significantly more often than other individual breed types.**"
   ]
  },
  {
   "cell_type": "markdown",
   "id": "f70cda34",
   "metadata": {},
   "source": [
    "## How much does bite count vary by animal gender?"
   ]
  },
  {
   "cell_type": "code",
   "execution_count": 24,
   "id": "b463a9ae",
   "metadata": {},
   "outputs": [
    {
     "data": {
      "image/png": "[encoded data removed]",
      "text/plain": [
       "<Figure size 1080x576 with 1 Axes>"
      ]
     },
     "metadata": {
      "needs_background": "light"
     },
     "output_type": "display_data"
    }
   ],
   "source": [
    "# Plot bite count by animal gender\n",
    "fig, ax = plt.subplots(figsize=(15,8))\n",
    "_ = sns.countplot(x=df_orig['GenderIDDesc'], saturation = 0.55, palette='Set1').set(title='Count of Animal Bites by Gender')\n",
    "_ = ax.bar_label(ax.containers[0])"
   ]
  },
  {
   "cell_type": "markdown",
   "id": "3fbe6ba0",
   "metadata": {},
   "source": [
    "**There are many unknown data points here, but it appears that male animals bite more often than female animals.**"
   ]
  },
  {
   "cell_type": "markdown",
   "id": "f0c84532",
   "metadata": {},
   "source": [
    "## What factors influence a positive rabies test?"
   ]
  },
  {
   "cell_type": "code",
   "execution_count": 25,
   "id": "f7407e5d",
   "metadata": {},
   "outputs": [
    {
     "data": {
      "text/plain": [
       "UNKNOWN     8700\n",
       "NEGATIVE     299\n",
       "POSITIVE       4\n",
       "Name: ResultsIDDesc, dtype: int64"
      ]
     },
     "execution_count": 25,
     "metadata": {},
     "output_type": "execute_result"
    }
   ],
   "source": [
    "df_orig['ResultsIDDesc'].value_counts()"
   ]
  },
  {
   "cell_type": "markdown",
   "id": "5afc6d9c",
   "metadata": {},
   "source": [
    "**There are 4 positive rabies tests.**"
   ]
  },
  {
   "cell_type": "code",
   "execution_count": 26,
   "id": "d4656c4f",
   "metadata": {},
   "outputs": [
    {
     "data": {
      "text/plain": [
       "BAT    3\n",
       "DOG    1\n",
       "Name: SpeciesIDDesc, dtype: int64"
      ]
     },
     "execution_count": 26,
     "metadata": {},
     "output_type": "execute_result"
    }
   ],
   "source": [
    "df_orig[df_orig['ResultsIDDesc'] == 'POSITIVE']['SpeciesIDDesc'].value_counts()"
   ]
  },
  {
   "cell_type": "markdown",
   "id": "28a8547e",
   "metadata": {},
   "source": [
    "**3 of 4 positive rabies tests are from bats.**"
   ]
  },
  {
   "cell_type": "code",
   "execution_count": 27,
   "id": "8fa89e57",
   "metadata": {},
   "outputs": [
    {
     "data": {
      "text/plain": [
       "BAT        160\n",
       "CAT         64\n",
       "DOG         58\n",
       "RACCOON      9\n",
       "OTHER        5\n",
       "UNKNOWN      3\n",
       "Name: SpeciesIDDesc, dtype: int64"
      ]
     },
     "execution_count": 27,
     "metadata": {},
     "output_type": "execute_result"
    }
   ],
   "source": [
    "df_orig[df_orig['ResultsIDDesc'] == 'NEGATIVE']['SpeciesIDDesc'].value_counts()"
   ]
  },
  {
   "cell_type": "code",
   "execution_count": 28,
   "id": "4715d3a1",
   "metadata": {},
   "outputs": [
    {
     "data": {
      "image/png": "[encoded data removed]",
      "text/plain": [
       "<Figure size 1080x576 with 1 Axes>"
      ]
     },
     "metadata": {
      "needs_background": "light"
     },
     "output_type": "display_data"
    }
   ],
   "source": [
    "# Plot bite count by animal species\n",
    "fig, ax = plt.subplots(figsize=(15,8))\n",
    "_ = sns.countplot(\n",
    "    x=df_orig[df_orig['ResultsIDDesc'] != 'UNKNOWN']['SpeciesIDDesc']\n",
    "    , saturation = 0.55, palette='Set1'\n",
    "    , order=df_orig[df_orig['ResultsIDDesc'] != 'UNKNOWN']['SpeciesIDDesc'].value_counts(\n",
    "    ).index).set(title='Count of Species Tested for Rabies')\n",
    "_ = ax.bar_label(ax.containers[0])"
   ]
  },
  {
   "cell_type": "markdown",
   "id": "b588cb30",
   "metadata": {},
   "source": [
    "**Bats are most often tested for rabies, even though dogs make up the majority of animal bites in the dataset. Bats are wild animals that are not likely to be vaccinated for rabies as many dogs are. A bat that bites a human may be thought to be more likely to be rabid. The data suggests this, but the sample size is small and more data is needed to make reasonable conclusions.**  "
   ]
  },
  {
   "cell_type": "code",
   "execution_count": 29,
   "id": "21244629",
   "metadata": {},
   "outputs": [
    {
     "name": "stdout",
     "output_type": "stream",
     "text": [
      "3.37 % of bites are tested for rabies.\n",
      "1.32 % of rabies tests are positive.\n"
     ]
    }
   ],
   "source": [
    "# Calculate proportions of bites tested for rabies and positive rabies tests\n",
    "\n",
    "test_length = len(df_orig[(df_orig['ResultsIDDesc'] == 'POSITIVE') | (df_orig['ResultsIDDesc'] == 'NEGATIVE')])\n",
    "print(round(test_length / len(df_orig['ResultsIDDesc']) * 100, 2), '% of bites are tested for rabies.')\n",
    "\n",
    "print(round(len(df_orig[df_orig['ResultsIDDesc'] == 'POSITIVE']\n",
    "   ) / test_length * 100, 2), '% of rabies tests are positive.')"
   ]
  },
  {
   "cell_type": "markdown",
   "id": "52809a6e",
   "metadata": {},
   "source": [
    "**Fortunately, only 1.3% of rabies tests return a positive result. However, only 3.4% of animal bites are tested for rabies. It would be interesting to see the rabies positive rate with a larger sample of rabies tests.**"
   ]
  },
  {
   "cell_type": "markdown",
   "id": "16018b46",
   "metadata": {},
   "source": [
    "## Conclusions and Suggestions for Further Analysis "
   ]
  },
  {
   "cell_type": "markdown",
   "id": "c9544778",
   "metadata": {},
   "source": [
    "- Although the dataset spans the range from 1985 to 2017, most animal bites are reported for 2010 to 2017. \n",
    "- Animal bites have an increasing trend in warmer months from March to August.\n",
    "- Of all animal bites, dogs are by far the most reported species.\n",
    "- Of breeds that are reported or known, pit bulls are the most frequently reported, followed by german shepherds and labrador retrievers.\n",
    "- Male animals tend to bite more frequently than females.\n",
    "- Rabies tests\n",
    "    - Bat bites are most frequently tested for rabies, followed by cats then dogs.\n",
    "    - 3.4% of animal bites are tested for rabies.\n",
    "    - 1.3% of tests return a positive result, and 3 out of 4 of those were from bats."
   ]
  },
  {
   "cell_type": "markdown",
   "id": "a4c5b2fa",
   "metadata": {},
   "source": [
    "**A more complete dataset is needed to come to robust conclusions. The dataset contains numerous missing values across all columns. Additionally, more bite occurrences should be tested for rabies to get a more accurate representation of the rate of rabies infection in animals that bite humans.**"
   ]
  }
 ],
 "metadata": {
  "kernelspec": {
   "display_name": "Python 3 (ipykernel)",
   "language": "python",
   "name": "python3"
  },
  "language_info": {
   "codemirror_mode": {
    "name": "ipython",
    "version": 3
   },
   "file_extension": ".py",
   "mimetype": "text/x-python",
   "name": "python",
   "nbconvert_exporter": "python",
   "pygments_lexer": "ipython3",
   "version": "3.8.13"
  }
 },
 "nbformat": 4,
 "nbformat_minor": 5
}
